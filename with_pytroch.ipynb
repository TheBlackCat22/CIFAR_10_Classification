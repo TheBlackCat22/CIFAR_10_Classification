{
 "cells": [
  {
   "cell_type": "code",
   "execution_count": 1,
   "metadata": {},
   "outputs": [],
   "source": [
    "import numpy as np\n",
    "import torch\n",
    "import torch.nn as nn\n",
    "import torchvision\n",
    "import torchvision.transforms as transforms\n",
    "import matplotlib.pyplot as plt"
   ]
  },
  {
   "cell_type": "code",
   "execution_count": 4,
   "metadata": {},
   "outputs": [
    {
     "data": {
      "text/plain": [
       "device(type='cuda')"
      ]
     },
     "execution_count": 4,
     "metadata": {},
     "output_type": "execute_result"
    }
   ],
   "source": [
    "device=torch.device(\"cuda\" if torch.cuda.is_available() else \"cpu\")\n",
    "device"
   ]
  },
  {
   "cell_type": "code",
   "execution_count": 5,
   "metadata": {},
   "outputs": [],
   "source": [
    "num_epocs=4\n",
    "batch_size=4\n",
    "learning_rate=0.001"
   ]
  },
  {
   "cell_type": "code",
   "execution_count": 34,
   "metadata": {},
   "outputs": [
    {
     "name": "stdout",
     "output_type": "stream",
     "text": [
      "Files already downloaded and verified\n",
      "Files already downloaded and verified\n"
     ]
    }
   ],
   "source": [
    "transform=transforms.Compose([transforms.ToTensor(),transforms.Normalize((0.5,0.5,0.5),(0.5,0.5,0.5))])\n",
    "\n",
    "train_dataset=torchvision.datasets.CIFAR10(root=\"./data\",train=True,download=True,transform=transform)\n",
    "test_dataset=torchvision.datasets.CIFAR10(root=\"./data\",train=False,download=True,transform=transform)"
   ]
  },
  {
   "cell_type": "code",
   "execution_count": 35,
   "metadata": {},
   "outputs": [
    {
     "name": "stdout",
     "output_type": "stream",
     "text": [
      "12500 2500\n"
     ]
    }
   ],
   "source": [
    "train_loader=torch.utils.data.DataLoader(train_dataset,batch_size,shuffle=True)\n",
    "test_loader=torch.utils.data.DataLoader(test_dataset,batch_size,shuffle=True)\n",
    "\n",
    "print(len(train_loader),len(test_loader))\n",
    "\n",
    "classes=(\"plane\",\"car\",\"bird\",\"cat\",\"deer\",\"dog\",\"frog\",'horse',\"ship\",\"truck\")"
   ]
  },
  {
   "cell_type": "code",
   "execution_count": 36,
   "metadata": {},
   "outputs": [
    {
     "data": {
      "text/plain": [
       "torch.Size([4, 3, 32, 32])"
      ]
     },
     "execution_count": 36,
     "metadata": {},
     "output_type": "execute_result"
    }
   ],
   "source": [
    "train_iter=iter(train_loader)\n",
    "test_iter=iter(test_loader)\n",
    "\n",
    "images,labels=train_iter.next()\n",
    "images.shape"
   ]
  },
  {
   "cell_type": "code",
   "execution_count": 37,
   "metadata": {},
   "outputs": [
    {
     "data": {
      "image/png": "[encoded data removed]",
      "text/plain": [
       "<Figure size 432x288 with 1 Axes>"
      ]
     },
     "metadata": {
      "needs_background": "light"
     },
     "output_type": "display_data"
    }
   ],
   "source": [
    "def imshow(img):\n",
    "    img = img*0.5 +0.5\n",
    "    npimg=img.numpy()\n",
    "    plt.imshow(np.transpose(npimg,(1,2,0)))\n",
    "    plt.show() \n",
    "    \n",
    "imshow(torchvision.utils.make_grid(images,nrow=2))"
   ]
  },
  {
   "cell_type": "code",
   "execution_count": 2,
   "metadata": {},
   "outputs": [],
   "source": [
    "class NeuralNet(nn.Module):\n",
    "    def __init__(self):\n",
    "        super(NeuralNet,self).__init__()\n",
    "        self.conv1 = nn.Conv2d(in_channels=3,out_channels=6,kernel_size=5)\n",
    "        self.pool = nn.MaxPool2d(kernel_size=2,stride=2)\n",
    "        self.conv2 = nn.Conv2d(in_channels=6,out_channels=16,kernel_size=5)\n",
    "        self.fc1 = nn.Linear(in_features=16*5*5,out_features=120)\n",
    "        self.fc2 = nn.Linear(in_features=120,out_features=84)\n",
    "        self.fc3 = nn.Linear(in_features=84,out_features=10)\n",
    "    \n",
    "    def forward(self,x):\n",
    "        x=self.pool(torch.relu(self.conv1(x)))\n",
    "        x=self.pool(torch.relu(self.conv2(x)))\n",
    "        x=x.view(-1,16*5*5)\n",
    "        x=torch.relu(self.fc1(x))\n",
    "        x=torch.relu(self.fc2(x))\n",
    "        x=self.fc3(x)\n",
    "        return x"
   ]
  },
  {
   "cell_type": "code",
   "execution_count": 6,
   "metadata": {},
   "outputs": [],
   "source": [
    "model=NeuralNet().to(device)\n",
    "\n",
    "criterion=nn.CrossEntropyLoss()\n",
    "optimizer=torch.optim.Adam(model.parameters(),learning_rate)"
   ]
  },
  {
   "cell_type": "code",
   "execution_count": 40,
   "metadata": {},
   "outputs": [
    {
     "name": "stdout",
     "output_type": "stream",
     "text": [
      "Epoch 1/4, Step 2000/12500, Loss 1.4707\n",
      "Epoch 1/4, Step 4000/12500, Loss 2.3496\n",
      "Epoch 1/4, Step 6000/12500, Loss 1.5175\n",
      "Epoch 1/4, Step 8000/12500, Loss 1.5845\n",
      "Epoch 1/4, Step 10000/12500, Loss 1.2013\n",
      "Epoch 1/4, Step 12000/12500, Loss 0.9514\n",
      "Epoch 2/4, Step 2000/12500, Loss 0.9447\n",
      "Epoch 2/4, Step 4000/12500, Loss 0.3855\n",
      "Epoch 2/4, Step 6000/12500, Loss 2.0619\n",
      "Epoch 2/4, Step 8000/12500, Loss 0.5676\n",
      "Epoch 2/4, Step 10000/12500, Loss 1.8584\n",
      "Epoch 2/4, Step 12000/12500, Loss 2.7208\n",
      "Epoch 3/4, Step 2000/12500, Loss 2.9014\n",
      "Epoch 3/4, Step 4000/12500, Loss 0.4249\n",
      "Epoch 3/4, Step 6000/12500, Loss 1.2815\n",
      "Epoch 3/4, Step 8000/12500, Loss 1.5007\n",
      "Epoch 3/4, Step 10000/12500, Loss 2.3193\n",
      "Epoch 3/4, Step 12000/12500, Loss 1.1588\n",
      "Epoch 4/4, Step 2000/12500, Loss 0.5657\n",
      "Epoch 4/4, Step 4000/12500, Loss 1.1392\n",
      "Epoch 4/4, Step 6000/12500, Loss 1.0178\n",
      "Epoch 4/4, Step 8000/12500, Loss 1.0201\n",
      "Epoch 4/4, Step 10000/12500, Loss 0.8977\n",
      "Epoch 4/4, Step 12000/12500, Loss 2.2161\n",
      "Finished Training\n"
     ]
    }
   ],
   "source": [
    "n_total_steps=len(train_loader)\n",
    "\n",
    "for epoch in range(num_epocs):\n",
    "    for i ,(images,labels) in enumerate(train_loader):\n",
    "        images=images.to(device)\n",
    "        labels=labels.to(device)\n",
    "        \n",
    "        outputs=model(images)\n",
    "        loss=criterion(outputs,labels)\n",
    "        \n",
    "        optimizer.zero_grad()\n",
    "        loss.backward()\n",
    "        optimizer.step()\n",
    "        \n",
    "        if (i+1)%2000==0:\n",
    "            print(f\"Epoch {epoch+1}/{num_epocs}, Step {i+1}/{n_total_steps}, Loss {loss.item():.4f}\")\n",
    "            \n",
    "print(\"Finished Training\")  \n",
    "        "
   ]
  },
  {
   "cell_type": "code",
   "execution_count": 41,
   "metadata": {},
   "outputs": [
    {
     "name": "stdout",
     "output_type": "stream",
     "text": [
      "Accuracy: 58.3600\n"
     ]
    }
   ],
   "source": [
    "with torch.no_grad():\n",
    "    n_correct=0\n",
    "    n_samples=0\n",
    "    \n",
    "    for images,labels in test_loader:\n",
    "        images=images.to(device)\n",
    "        labels=labels.to(device)\n",
    "        outputs=model(images)\n",
    "        \n",
    "        _,predictions=torch.max(outputs,1)\n",
    "        n_samples+=labels.shape[0]\n",
    "        n_correct+=(predictions==labels).sum().item()\n",
    "    accuracy = (n_correct/n_samples)*100\n",
    "print(f\"Accuracy: {accuracy:.4f}\")"
   ]
  }
 ],
 "metadata": {
  "interpreter": {
   "hash": "e6b07aa714d9e814b0b1bc1b682cbcd8a51f230a35898dce02aa8b1e12749510"
  },
  "kernelspec": {
   "display_name": "Python 3.9.12 ('default')",
   "language": "python",
   "name": "python3"
  },
  "language_info": {
   "codemirror_mode": {
    "name": "ipython",
    "version": 3
   },
   "file_extension": ".py",
   "mimetype": "text/x-python",
   "name": "python",
   "nbconvert_exporter": "python",
   "pygments_lexer": "ipython3",
   "version": "3.9.12"
  },
  "orig_nbformat": 4
 },
 "nbformat": 4,
 "nbformat_minor": 2
}
